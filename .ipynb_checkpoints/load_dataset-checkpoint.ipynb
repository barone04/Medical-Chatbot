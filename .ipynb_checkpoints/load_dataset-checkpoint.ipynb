{
 "cells": [
  {
   "cell_type": "code",
   "id": "initial_id",
   "metadata": {
    "collapsed": true,
    "ExecuteTime": {
     "end_time": "2025-06-25T02:01:15.908234Z",
     "start_time": "2025-06-25T02:01:14.745160Z"
    }
   },
   "source": [
    "from datasets import load_dataset\n",
    "from langchain.text_splitter import RecursiveCharacterTextSplitter\n",
    "import re"
   ],
   "outputs": [
    {
     "name": "stderr",
     "output_type": "stream",
     "text": [
      "/home/tbao04/Pycharm/RAG-Chatbot/.venv/lib/python3.12/site-packages/tqdm/auto.py:21: TqdmWarning: IProgress not found. Please update jupyter and ipywidgets. See https://ipywidgets.readthedocs.io/en/stable/user_install.html\n",
      "  from .autonotebook import tqdm as notebook_tqdm\n"
     ]
    }
   ],
   "execution_count": 1
  },
  {
   "metadata": {
    "ExecuteTime": {
     "end_time": "2025-06-25T02:01:26.090699Z",
     "start_time": "2025-06-25T02:01:16.039915Z"
    }
   },
   "cell_type": "code",
   "source": [
    "ds = load_dataset(\"thangvip/medical-data\")\n",
    "data = ds[\"train\"][\"text\"]"
   ],
   "id": "c8864f2ee36c0882",
   "outputs": [],
   "execution_count": 2
  },
  {
   "metadata": {
    "ExecuteTime": {
     "end_time": "2025-06-25T02:01:26.102697Z",
     "start_time": "2025-06-25T02:01:26.100522Z"
    }
   },
   "cell_type": "code",
   "source": [
    "splitter = RecursiveCharacterTextSplitter(\n",
    "    chunk_size=1000,\n",
    "    chunk_overlap=100\n",
    ")"
   ],
   "id": "e0edda525db0e175",
   "outputs": [],
   "execution_count": 3
  },
  {
   "metadata": {
    "ExecuteTime": {
     "end_time": "2025-06-25T02:03:45.994945Z",
     "start_time": "2025-06-25T02:03:45.576605Z"
    }
   },
   "cell_type": "code",
   "source": [
    "# split chunks\n",
    "chunks = []\n",
    "for text in data:\n",
    "    split_text = splitter.split_text(text)\n",
    "    chunks.extend(split_text)\n",
    "print(chunks)"
   ],
   "id": "dea07aa759252efe",
   "outputs": [
    {
     "name": "stderr",
     "output_type": "stream",
     "text": [
      "IOPub data rate exceeded.\n",
      "The Jupyter server will temporarily stop sending output\n",
      "to the client in order to avoid crashing it.\n",
      "To change this limit, set the config variable\n",
      "`--ServerApp.iopub_data_rate_limit`.\n",
      "\n",
      "Current values:\n",
      "ServerApp.iopub_data_rate_limit=1000000.0 (bytes/sec)\n",
      "ServerApp.rate_limit_window=3.0 (secs)\n",
      "\n"
     ]
    }
   ],
   "execution_count": 7
  },
  {
   "metadata": {},
   "cell_type": "code",
   "outputs": [],
   "execution_count": null,
   "source": [
    "# extract question\n",
    "def question(text):\n",
    "    match = re.match(r\"^(.*/?/)\", text.strip())"
   ],
   "id": "b7e431d969a23620"
  }
 ],
 "metadata": {
  "kernelspec": {
   "display_name": "Python 3",
   "language": "python",
   "name": "python3"
  },
  "language_info": {
   "codemirror_mode": {
    "name": "ipython",
    "version": 2
   },
   "file_extension": ".py",
   "mimetype": "text/x-python",
   "name": "python",
   "nbconvert_exporter": "python",
   "pygments_lexer": "ipython2",
   "version": "2.7.6"
  }
 },
 "nbformat": 4,
 "nbformat_minor": 5
}
